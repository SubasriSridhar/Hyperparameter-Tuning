{
 "cells": [
  {
   "cell_type": "code",
   "execution_count": 1,
   "metadata": {},
   "outputs": [],
   "source": [
    "import pandas as pd\n",
    "import numpy as np\n",
    "import seaborn as sns\n",
    "import matplotlib.pyplot as plt\n",
    "pd.set_option('display.max_columns', None)\n",
    "pd.set_option('display.max_rows', None)\n",
    "# from sklearn import metrics #Import scikit-learn metrics module for accuracy calculation\n",
    "# from sklearn.tree import export_graphviz\n",
    "# from sklearn.externals.six import StringIO\n",
    "# import pydotplus\n",
    "# from sklearn import tree\n",
    "# import graphviz\n",
    "# from sklearn.metrics import confusion_matrix\n",
    "# from sklearn.utils.multiclass import unique_labels\n",
    "# from sklearn.metrics import classification_report\n",
    "# import pstats\n",
    "# import cProfile\n",
    "# from IPython.display import Image\n",
    "# from sklearn.metrics import roc_curve, roc_auc_score\n",
    "# from sklearn.metrics import precision_score, recall_score, roc_auc_score, roc_curve"
   ]
  },
  {
   "cell_type": "code",
   "execution_count": 2,
   "metadata": {},
   "outputs": [],
   "source": [
    "df=pd.read_csv('analysis_rfm_1010nooutlier.csv')"
   ]
  },
  {
   "cell_type": "code",
   "execution_count": 3,
   "metadata": {
    "scrolled": false
   },
   "outputs": [
    {
     "name": "stdout",
     "output_type": "stream",
     "text": [
      "<class 'pandas.core.frame.DataFrame'>\n",
      "RangeIndex: 4534726 entries, 0 to 4534725\n",
      "Data columns (total 42 columns):\n",
      "Unnamed: 0                  4534726 non-null int64\n",
      "userid                      4534726 non-null object\n",
      "restart_number              4534726 non-null int64\n",
      "map_name                    4534726 non-null object\n",
      "difficulty                  4534726 non-null object\n",
      "win_loss_quit               4534726 non-null object\n",
      "round_reached               4534726 non-null int64\n",
      "lives_left                  4534726 non-null int64\n",
      "player_rank                 4534726 non-null int64\n",
      "current_shards              4534726 non-null int64\n",
      "current_gold                4534726 non-null int64\n",
      "current_gems                4534726 non-null int64\n",
      "recency_in_days             4534726 non-null int64\n",
      "recency_in_weeks            4534726 non-null int64\n",
      "active_status               4534726 non-null object\n",
      "countofdays                 4534726 non-null int64\n",
      "frequency_in_total          4534726 non-null int64\n",
      "app_opened_perday_median    4534726 non-null float64\n",
      "avg_duration_mins           4534726 non-null float64\n",
      "win_count                   4534726 non-null int64\n",
      "loss_count                  4534726 non-null int64\n",
      "restart_count               4534726 non-null int64\n",
      "quit_count                  4534726 non-null int64\n",
      "gameoverrestart_count       4534726 non-null int64\n",
      "terminated_count            4534726 non-null int64\n",
      "difficulty_skull            4534726 non-null int64\n",
      "easy_count                  4534726 non-null int64\n",
      "medium_count                4534726 non-null int64\n",
      "hard_count                  4534726 non-null int64\n",
      "impoppable_count            4534726 non-null int64\n",
      "active_weeks                4534726 non-null int64\n",
      "initial_2_weeks             4534726 non-null float64\n",
      "initial_nappopen            4534726 non-null int64\n",
      "initial_ngames              4534726 non-null int64\n",
      "initial_ndays               4534726 non-null int64\n",
      "n_games                     4534726 non-null int64\n",
      "wlqgtr_cnt                  4534726 non-null int64\n",
      "active_days                 4534726 non-null int64\n",
      "platform                    4534726 non-null object\n",
      "iphoneplayer                4534726 non-null float64\n",
      "android                     4534726 non-null float64\n",
      "steam                       4534726 non-null float64\n",
      "dtypes: float64(6), int64(30), object(6)\n",
      "memory usage: 1.4+ GB\n"
     ]
    }
   ],
   "source": [
    "df.info(null_counts=True)"
   ]
  },
  {
   "cell_type": "code",
   "execution_count": 7,
   "metadata": {},
   "outputs": [],
   "source": [
    "from sklearn import preprocessing\n",
    "le = preprocessing.LabelEncoder()\n",
    "df['platform'] = le.fit_transform(df['platform'])\n",
    "df['win_loss_quit'] = le.fit_transform(df['win_loss_quit'])\n",
    "df['difficulty'] = le.fit_transform(df['difficulty'])\n",
    "df['map_name'] = le.fit_transform(df['map_name'])\n",
    "df['active_status'] = le.fit_transform(df['active_status'])\n",
    "#df.head()"
   ]
  },
  {
   "cell_type": "code",
   "execution_count": null,
   "metadata": {},
   "outputs": [],
   "source": [
    "from sklearn.model_selection import train_test_split # Import train_test_split function\n",
    "from sklearn.ensemble import RandomForestClassifier\n",
    "feature_cols = ['avg_duration_mins','initial_2_weeks','current_gold','active_weeks','current_gems','current_shards','frequency_in_total','app_opened_perday_median','map_name','easy_count','initial_nappopen','n_games','initial_ngames','avg_duration_mins','difficulty_skull','easy_count','medium_count','hard_count','impoppable_count','active_weeks','initial_2_weeks','initial_nappopen','initial_ngames','wlqgtr_cnt','n_games','wlqgtr_cnt','lives_left' ]\n",
    "X = df[feature_cols]# Features\n",
    "y = df.active_status\n",
    "X_train, X_test, y_train, y_test = train_test_split(X, y, test_size=0.3, random_state=0) # 70% training and 30% test\n"
   ]
  },
  {
   "cell_type": "code",
   "execution_count": 10,
   "metadata": {},
   "outputs": [
    {
     "name": "stdout",
     "output_type": "stream",
     "text": [
      "[(0, 4284976), (1, 4284976), (2, 4284976)]\n"
     ]
    }
   ],
   "source": [
    "from imblearn.over_sampling import SMOTE\n",
    "feature_cols = ['avg_duration_mins','initial_2_weeks','current_gold','active_weeks','current_gems','current_shards','frequency_in_total','app_opened_perday_median','map_name','easy_count','initial_nappopen','n_games','initial_ngames','avg_duration_mins','difficulty_skull','easy_count','medium_count','hard_count','impoppable_count','active_weeks','initial_2_weeks','initial_nappopen','initial_ngames','wlqgtr_cnt','n_games','wlqgtr_cnt','lives_left' ]\n",
    "X = df[feature_cols]# Features\n",
    "y = df.active_status\n",
    "X_resampled, y_resampled = SMOTE().fit_resample(X, y)\n",
    "from collections import Counter\n",
    "print(sorted(Counter(y_resampled).items()))\n",
    "X_train, X_test, y_train, y_test = train_test_split(X_resampled, y_resampled, test_size=0.3, random_state=0)"
   ]
  },
  {
   "cell_type": "code",
   "execution_count": 34,
   "metadata": {},
   "outputs": [],
   "source": [
    "from sklearn.preprocessing import StandardScaler\n",
    "scaled_X_train = preprocessing.StandardScaler().fit(X_train)\n",
    "scaled_X_test = preprocessing.StandardScaler().fit(X_test)\n",
    "#StandardScaler(copy=True, with_mean=True, with_std=True)"
   ]
  },
  {
   "cell_type": "code",
   "execution_count": 21,
   "metadata": {},
   "outputs": [
    {
     "data": {
      "text/plain": [
       "(2998073,)"
      ]
     },
     "execution_count": 21,
     "metadata": {},
     "output_type": "execute_result"
    }
   ],
   "source": [
    "y_train[y_train==0].shape"
   ]
  },
  {
   "cell_type": "code",
   "execution_count": 22,
   "metadata": {},
   "outputs": [
    {
     "name": "stdout",
     "output_type": "stream",
     "text": [
      "[(0, 600299), (1, 599873), (2, 599518)]\n"
     ]
    }
   ],
   "source": [
    "import numpy as np\n",
    "idx=np.random.choice(y_train[y_train==0].shape[0],int(np.round(y_train.shape[0]*0.2)))\n",
    "print(sorted(Counter(y_train[idx]).items()))"
   ]
  },
  {
   "cell_type": "code",
   "execution_count": 24,
   "metadata": {},
   "outputs": [
    {
     "name": "stdout",
     "output_type": "stream",
     "text": [
      "Fitting 3 folds for each of 10 candidates, totalling 30 fits\n"
     ]
    },
    {
     "name": "stderr",
     "output_type": "stream",
     "text": [
      "[Parallel(n_jobs=-1)]: Using backend LokyBackend with 24 concurrent workers.\n",
      "[Parallel(n_jobs=-1)]: Done  15 out of  30 | elapsed: 52.0min remaining: 52.0min\n",
      "[Parallel(n_jobs=-1)]: Done  30 out of  30 | elapsed: 71.0min finished\n"
     ]
    },
    {
     "name": "stdout",
     "output_type": "stream",
     "text": [
      "0.8059838083225445\n",
      "KNeighborsClassifier(algorithm='auto', leaf_size=30, metric='manhattan',\n",
      "                     metric_params=None, n_jobs=None, n_neighbors=3, p=2,\n",
      "                     weights='distance')\n"
     ]
    },
    {
     "ename": "AttributeError",
     "evalue": "'RandomizedSearchCV' object has no attribute 'best_param_'",
     "output_type": "error",
     "traceback": []
    }
   ],
   "source": [
    "from sklearn.model_selection import RandomizedSearchCV\n",
    "from sklearn.neighbors import KNeighborsClassifier\n",
    "# Use the random grid to search for best hyperparameters\n",
    "# First create the base model to tune\n",
    "knn = KNeighborsClassifier()\n",
    "parameters = {'n_neighbors': [3,5,11],'weights':['uniform','distance'],'metric':['euclidean','manhattan']}\n",
    "# Random search of parameters, using 3 fold cross validation, \n",
    "# search across 100 different combinations, and use all available cores\n",
    "knn_model = RandomizedSearchCV(estimator = knn, param_distributions = parameters, cv = 3, verbose=2, random_state=42, n_jobs = -1)\n",
    "# Fit the random search model\n",
    "k=knn_model.fit(X_train[idx], y_train[idx])\n",
    "print(k.best_score_)\n",
    "print(k.best_estimator_)"
   ]
  },
  {
   "cell_type": "code",
   "execution_count": 26,
   "metadata": {},
   "outputs": [
    {
     "name": "stdout",
     "output_type": "stream",
     "text": [
      "KNeighborsClassifier(algorithm='auto', leaf_size=30, metric='manhattan',\n",
      "                     metric_params=None, n_jobs=None, n_neighbors=3, p=2,\n",
      "                     weights='distance')\n"
     ]
    }
   ],
   "source": [
    "print(k.best_estimator_)"
   ]
  },
  {
   "cell_type": "code",
   "execution_count": 27,
   "metadata": {},
   "outputs": [],
   "source": [
    "Knn_1=KNeighborsClassifier(algorithm='auto', leaf_size=30, metric='manhattan',\n",
    "                     metric_params=None, n_jobs=None, n_neighbors=3, p=2,\n",
    "                     weights='distance')"
   ]
  },
  {
   "cell_type": "code",
   "execution_count": 28,
   "metadata": {},
   "outputs": [
    {
     "name": "stdout",
     "output_type": "stream",
     "text": [
      "14min 53s ± 6.67 s per loop (mean ± std. dev. of 7 runs, 1 loop each)\n"
     ]
    }
   ],
   "source": [
    "%timeit Knn_1.fit(X_train[idx], y_train[idx])"
   ]
  }
 ],
 "metadata": {
  "kernelspec": {
   "display_name": "Python 3",
   "language": "python",
   "name": "python3"
  },
  "language_info": {
   "codemirror_mode": {
    "name": "ipython",
    "version": 3
   },
   "file_extension": ".py",
   "mimetype": "text/x-python",
   "name": "python",
   "nbconvert_exporter": "python",
   "pygments_lexer": "ipython3",
   "version": "3.7.1"
  }
 },
 "nbformat": 4,
 "nbformat_minor": 2
}
